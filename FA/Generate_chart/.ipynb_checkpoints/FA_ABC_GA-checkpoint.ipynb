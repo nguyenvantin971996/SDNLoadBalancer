{
 "cells": [
  {
   "cell_type": "code",
   "execution_count": null,
   "id": "7da9390f",
   "metadata": {},
   "outputs": [],
   "source": [
    "import os\n",
    "import random\n",
    "import time\n",
    "\n",
    "from FA import FA\n",
    "from ABC import ABC\n",
    "from GA import GA\n",
    "from Draw_3D_chart import BarChart\n",
    "\n",
    "N = 20\n",
    "Max = 1000\n",
    "K_paths = 10\n",
    "y = 1\n",
    "a0 = 1\n",
    "b0 = 1\n",
    "Pc = 0.9\n",
    "Pm = 0.9\n",
    "Ts = 5\n",
    "dst = 1\n",
    "src = 50\n",
    "alg_1 = FA(dst,src,N, Max, K_paths, y, a0, b0)\n",
    "alg_1.Do()\n",
    "alg_2 = ABC(dst,src,N, Max, K_paths)\n",
    "alg_2.Do()\n",
    "alg_3 = GA(dst,src,N, Max, K_paths, Pc, Pm, Ts)\n",
    "alg_3.Do()\n",
    "pr = [\"FA\",\"ABC\",\"GA\"]\n",
    "pr.append(\"Type of algorithm\")\n",
    "chart = BarChart(alg_1.values,alg_2.values,alg_3.values,\"FA_ABC_GA\",pr)\n",
    "chart.Do()\n",
    "f=open(\"../../demo.txt\",\"w\")\n",
    "f.truncate(0)\n",
    "for i in range(len(alg_2.best)):\n",
    "    stt = \",\".join(str(x) for x in alg_2.best[i].path)\n",
    "    stt= stt+\",\"+str(alg_2.best[i].fitness)+\"\\n\"\n",
    "    f.write(stt)\n",
    "f.close()"
   ]
  }
 ],
 "metadata": {
  "kernelspec": {
   "display_name": "Python 3 (ipykernel)",
   "language": "python",
   "name": "python3"
  },
  "language_info": {
   "codemirror_mode": {
    "name": "ipython",
    "version": 3
   },
   "file_extension": ".py",
   "mimetype": "text/x-python",
   "name": "python",
   "nbconvert_exporter": "python",
   "pygments_lexer": "ipython3",
   "version": "3.8.10"
  }
 },
 "nbformat": 4,
 "nbformat_minor": 5
}
