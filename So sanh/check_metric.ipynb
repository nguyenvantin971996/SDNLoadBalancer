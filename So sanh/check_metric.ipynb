{
 "cells": [
  {
   "cell_type": "code",
   "execution_count": 3,
   "id": "0750116e",
   "metadata": {},
   "outputs": [],
   "source": [
    "Times = 100\n",
    "N = 30\n",
    "Max = 100\n",
    "K_paths = 10\n",
    "Pc = 0.8\n",
    "Pm = 0.1\n",
    "Ts = 2"
   ]
  },
  {
   "cell_type": "code",
   "execution_count": 89,
   "id": "be7fdcb4",
   "metadata": {},
   "outputs": [
    {
     "name": "stdout",
     "output_type": "stream",
     "text": [
      "[185, 185, 195, 195, 210, 210, 210, 215, 215, 220, 225, 225]\n"
     ]
    },
    {
     "data": {
      "text/plain": [
       "[[1, 18, 19, 20, 21, 22, 23, 24, 10],\n",
       " [1, 11, 12, 13, 14, 15, 16, 17, 10],\n",
       " [1, 25, 26, 27, 28, 29, 30, 31, 32, 10],\n",
       " [1, 2, 3, 4, 5, 14, 15, 16, 17, 10],\n",
       " [1, 33, 34, 35, 36, 37, 38, 39, 40, 10],\n",
       " [1, 2, 3, 4, 5, 6, 7, 8, 9, 10],\n",
       " [1, 2, 3, 4, 5, 21, 22, 23, 24, 10],\n",
       " [1, 2, 3, 4, 5, 6, 7, 16, 17, 10],\n",
       " [1, 2, 3, 4, 5, 13, 14, 15, 16, 17, 10],\n",
       " [1, 11, 12, 13, 14, 15, 30, 31, 32, 10],\n",
       " [1, 18, 19, 20, 36, 37, 38, 39, 40, 10],\n",
       " [1, 18, 19, 20, 21, 37, 38, 39, 40, 10]]"
      ]
     },
     "execution_count": 89,
     "metadata": {},
     "output_type": "execute_result"
    }
   ],
   "source": [
    "from YenAlgorithm import YenAlgorithm\n",
    "import random\n",
    "weight_map={}\n",
    "temp = 0\n",
    "with open('metric_data_40.txt') as f:\n",
    "    for line in f:\n",
    "        strt = line\n",
    "        strt2 = strt.split(':')\n",
    "        my_result = list(map(int, strt2[0].split(',')))\n",
    "        if (temp!=my_result[0]):\n",
    "            weight_map[my_result[0]]={}\n",
    "        weight_map[my_result[0]][my_result[1]] = int(strt2[1])\n",
    "        temp = my_result[0]\n",
    "vertices = [i for i in range(1,41)]\n",
    "alg_y = YenAlgorithm(weight_map,vertices,1,10,K_paths+2)\n",
    "paths_vertices = alg_y.compute_shortest_paths()\n",
    "paths_length = []\n",
    "for path in paths_vertices:\n",
    "    s = 0\n",
    "    for i in range(len(path)-1):\n",
    "        s+= weight_map[path[i]][path[i+1]]\n",
    "    paths_length.append(s)\n",
    "print(paths_length)\n",
    "paths_vertices"
   ]
  },
  {
   "cell_type": "code",
   "execution_count": 73,
   "id": "803603ce",
   "metadata": {},
   "outputs": [
    {
     "name": "stdout",
     "output_type": "stream",
     "text": [
      "[180, 185, 190, 195, 200, 205, 215, 220, 220, 225, 230]\n"
     ]
    },
    {
     "data": {
      "text/plain": [
       "[[1, 25, 26, 27, 13, 14, 15, 16, 17, 10],\n",
       " [1, 25, 26, 27, 13, 14, 15, 16, 17, 32, 10],\n",
       " [1, 18, 19, 20, 5, 14, 15, 16, 17, 10],\n",
       " [1, 18, 19, 20, 5, 14, 15, 16, 17, 32, 10],\n",
       " [1, 25, 26, 27, 13, 28, 29, 15, 16, 17, 10],\n",
       " [1, 25, 26, 27, 13, 28, 29, 15, 16, 17, 32, 10],\n",
       " [1, 18, 19, 20, 5, 4, 13, 14, 15, 16, 17, 10],\n",
       " [1, 25, 26, 27, 13, 5, 14, 15, 16, 17, 10],\n",
       " [1, 18, 19, 20, 5, 4, 13, 14, 15, 16, 17, 32, 10],\n",
       " [1, 25, 26, 27, 13, 5, 14, 15, 16, 17, 32, 10],\n",
       " [1, 25, 26, 27, 13, 14, 15, 30, 16, 17, 10]]"
      ]
     },
     "execution_count": 73,
     "metadata": {},
     "output_type": "execute_result"
    }
   ],
   "source": [
    "while(paths_length[9]==paths_length[10] or paths_length[7]==paths_length[6] or paths_length[6]==paths_length[5]):\n",
    "    for sw_1 in weight_map.keys():\n",
    "        for sw_2 in weight_map[sw_1].keys():\n",
    "            weight_map[sw_1][sw_2] = 5*random.randint(1,19)\n",
    "    alg_y = YenAlgorithm(weight_map,vertices,1,10,K_paths+1)\n",
    "    paths_vertices = alg_y.compute_shortest_paths()\n",
    "    paths_length.clear()\n",
    "    for path in paths_vertices:\n",
    "        s = 0\n",
    "        for i in range(len(path)-1):\n",
    "            s+= weight_map[path[i]][path[i+1]]\n",
    "        paths_length.append(s)\n",
    "print(paths_length)\n",
    "paths_vertices"
   ]
  },
  {
   "cell_type": "code",
   "execution_count": null,
   "id": "4e6cb52c",
   "metadata": {},
   "outputs": [],
   "source": []
  }
 ],
 "metadata": {
  "kernelspec": {
   "display_name": "Python 3 (ipykernel)",
   "language": "python",
   "name": "python3"
  },
  "language_info": {
   "codemirror_mode": {
    "name": "ipython",
    "version": 3
   },
   "file_extension": ".py",
   "mimetype": "text/x-python",
   "name": "python",
   "nbconvert_exporter": "python",
   "pygments_lexer": "ipython3",
   "version": "3.8.10"
  }
 },
 "nbformat": 4,
 "nbformat_minor": 5
}
