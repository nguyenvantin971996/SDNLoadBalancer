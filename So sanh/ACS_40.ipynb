{
 "cells": [
  {
   "cell_type": "code",
   "execution_count": 1,
   "id": "7416205e",
   "metadata": {},
   "outputs": [],
   "source": [
    "import numpy as np\n",
    "import random\n",
    "import math\n",
    "import copy\n",
    "from YenAlgorithm import YenAlgorithm\n",
    "import time\n",
    "\n",
    "class Ant(object):\n",
    "    def __init__(self):\n",
    "        self.path = []\n",
    "        self.fitness = float('inf')\n",
    "        self.delta = 0\n",
    "\n",
    "\n",
    "class ACS:\n",
    "\n",
    "    def __init__(self, src, dst, N, Max, K_paths, p, a, b, p0, Q):\n",
    "        self.switches = [i for i in range(1,21)]\n",
    "        self.src= src\n",
    "        self.dst = dst\n",
    "        self.weight_map= self.GetWeightMap()\n",
    "        self.adjacency = copy.deepcopy(self.weight_map)\n",
    "        self.N = N\n",
    "        self.Max = Max\n",
    "        self.K_paths = K_paths\n",
    "        self.p = p\n",
    "        self.a = a\n",
    "        self.b = b\n",
    "        self.p0 = p0\n",
    "        self.Q = Q\n",
    "        self.colony = [Ant() for i in range(self.N)]\n",
    "        self.condidates = []\n",
    "        self.best = []\n",
    "        self.Lnn = self.FindLnn()\n",
    "        self.t0 = 1/(len(self.switches)*self.Lnn)\n",
    "        self.pheromone = self.CreatePheromone()\n",
    "    \n",
    "    def FindLnn(self):\n",
    "        path = []\n",
    "        current_switch = self.src\n",
    "        path.append(current_switch)\n",
    "        while(current_switch!=self.dst):\n",
    "            neighbor_switches = set(self.adjacency[current_switch].keys())-set(path)\n",
    "            neighbor_switches = list(neighbor_switches)\n",
    "            if(len(neighbor_switches)==0):\n",
    "                path.clear()\n",
    "                current_switch = self.src\n",
    "                path.append(current_switch)\n",
    "            else:\n",
    "                current_switch = self.GetNextSwitchLnn(neighbor_switches, current_switch)\n",
    "                path.append(current_switch)\n",
    "        Lnn = self.Evaluate(path)\n",
    "        return Lnn\n",
    "                \n",
    "    def GetNextSwitchLnn(self, neighbor_switches, current_switch):\n",
    "        next_switch = neighbor_switches[0]\n",
    "        for sw in neighbor_switches:\n",
    "            if(self.weight_map[current_switch][sw]<=self.weight_map[current_switch][next_switch]):\n",
    "                next_switch = sw\n",
    "        return next_switch\n",
    "    \n",
    "    def CreatePheromone(self):\n",
    "        pheromone = copy.deepcopy(self.adjacency)\n",
    "        for sw_1 in self.adjacency.keys():\n",
    "            for sw_2 in self.adjacency[sw_1].keys():\n",
    "                pheromone[sw_1][sw_2] = self.t0\n",
    "        return pheromone\n",
    "    \n",
    "    def GetWeightMap(self):\n",
    "        weight_map={}\n",
    "        temp = 0\n",
    "        with open('metric_data_20_new.txt') as f:\n",
    "            for line in f:\n",
    "                strt = line\n",
    "                strt2 = strt.split(':')\n",
    "                my_result = list(map(int, strt2[0].split(',')))\n",
    "                if (temp!=my_result[0]):\n",
    "                    weight_map[my_result[0]]={}\n",
    "                weight_map[my_result[0]][my_result[1]] = int(strt2[1])\n",
    "                temp = my_result[0]\n",
    "        return weight_map\n",
    "\n",
    "    def CreatePath(self):\n",
    "        for i in range(self.N):\n",
    "            path = []\n",
    "            current_switch = self.src\n",
    "            path.append(current_switch)\n",
    "            while(current_switch!=self.dst):\n",
    "                neighbor_switches = set(self.adjacency[current_switch].keys())-set(path)\n",
    "                neighbor_switches = list(neighbor_switches)\n",
    "                if(len(neighbor_switches)==0):\n",
    "                    path.clear()\n",
    "                    current_switch = self.src\n",
    "                    path.append(current_switch)\n",
    "                else:\n",
    "                    current_switch = self.GetNextSwitch(neighbor_switches, current_switch)\n",
    "                    path.append(current_switch)\n",
    "            self.colony[i].path = copy.deepcopy(path)\n",
    "            self.colony[i].fitness = self.Evaluate(self.colony[i].path)\n",
    "            self.colony[i].delta = self.Q/self.colony[i].fitness\n",
    "\n",
    "    def GetNextSwitch(self, neighbor_switches, current_switch):\n",
    "        summ = 0\n",
    "        for sw in neighbor_switches:\n",
    "            x = self.pheromone[current_switch][sw]\n",
    "            y = 1/(self.weight_map[current_switch][sw])\n",
    "            z = pow(x,self.a)*pow(y,self.b)\n",
    "            summ+=z\n",
    "        prob = []\n",
    "        prob_2 = []\n",
    "        sw_max = 1\n",
    "        z_max = 0\n",
    "        for sw in neighbor_switches:\n",
    "            x = self.pheromone[current_switch][sw]\n",
    "            y = 1/(self.weight_map[current_switch][sw])\n",
    "            z = pow(x,self.a)*pow(y,self.b)\n",
    "            prob.append(z/summ)\n",
    "            z2 = x*pow(y,self.b)\n",
    "            if(z2>z_max):\n",
    "                z_max = z2\n",
    "                sw_max = sw\n",
    "        p = np.random.rand()\n",
    "        if(p <= self.p0):\n",
    "            next_switch= sw_max\n",
    "        else:\n",
    "            sw = np.random.choice(neighbor_switches,p=prob)\n",
    "            next_switch= sw\n",
    "            # update local\n",
    "            self.pheromone[current_switch][next_switch]=self.pheromone[current_switch][next_switch]*(1-self.p)+self.p*self.t0\n",
    "            self.pheromone[next_switch][current_switch]=self.pheromone[next_switch][current_switch]*(1-self.p)+self.p*self.t0\n",
    "        return next_switch\n",
    "\n",
    "    def Evaluate(self,path):\n",
    "        calculatedFitness = 0\n",
    "        for i in range(len(path) - 1):\n",
    "            p1 = path[i]\n",
    "            p2 = path[i + 1]\n",
    "            calculatedFitness += self.weight_map[p1][p2]\n",
    "        return calculatedFitness\n",
    "    \n",
    "    def UpdatePheromone(self):\n",
    "        # update global\n",
    "        self.colony.sort(key=lambda x: x.fitness)\n",
    "        for j in range(len(self.colony[0].path) - 1):\n",
    "            p1 = self.colony[0].path[j]\n",
    "            p2 = self.colony[0].path[j + 1]\n",
    "            self.pheromone[p1][p2] = (1-self.p)*self.pheromone[p1][p2] + self.p*self.colony[0].delta\n",
    "            self.pheromone[p2][p1] = (1-self.p)*self.pheromone[p2][p1] + self.p*self.colony[0].delta\n",
    "     \n",
    "    def MemorizeCondidates(self):\n",
    "#         self.colony.sort(key=lambda x: x.fitness)\n",
    "        condidate = []\n",
    "        k=0\n",
    "        for i in range(len(self.colony)):\n",
    "            dk_3 = False\n",
    "            for ant in condidate:\n",
    "                if(tuple(ant.path)==tuple(self.colony[i].path)):\n",
    "                    dk_3 = True\n",
    "                    break\n",
    "            if(dk_3!=True):\n",
    "                condidate.append(copy.deepcopy(self.colony[i]))\n",
    "                k=k+1\n",
    "            if(k==self.K_paths):\n",
    "                break\n",
    "        self.condidates.extend(copy.deepcopy(condidate))\n",
    "\n",
    "    def GetBest(self):\n",
    "        self.condidates.sort(key=lambda x: x.fitness)\n",
    "        self.best.clear()\n",
    "        k=0\n",
    "        for i in range(len(self.condidates)):\n",
    "            dk_3 = False\n",
    "            for ant in self.best:\n",
    "                if(tuple(ant.path)==tuple(self.condidates[i].path)):\n",
    "                    dk_3 = True\n",
    "                    break\n",
    "            if(dk_3!=True):\n",
    "                self.best.append(copy.deepcopy(self.condidates[i]))\n",
    "                k=k+1\n",
    "            if(k==self.K_paths):\n",
    "                break\n",
    "        \n",
    "    def Do(self):\n",
    "        for i in range(self.Max):\n",
    "            self.CreatePath()\n",
    "            self.UpdatePheromone()\n",
    "            self.MemorizeCondidates()\n",
    "        self.GetBest()"
   ]
  },
  {
   "cell_type": "code",
   "execution_count": 2,
   "id": "0750116e",
   "metadata": {},
   "outputs": [],
   "source": [
    "Times = 20\n",
    "N = 20\n",
    "Max = 100\n",
    "K_paths = 10\n",
    "p = 0.1\n",
    "a = 2\n",
    "b = 1\n",
    "p0 = 0.6\n",
    "Q = 1"
   ]
  },
  {
   "cell_type": "code",
   "execution_count": 3,
   "id": "be7fdcb4",
   "metadata": {},
   "outputs": [],
   "source": [
    "import numpy as np\n",
    "import random\n",
    "import math\n",
    "import copy\n",
    "from YenAlgorithm import YenAlgorithm\n",
    "import time\n",
    "weight_map={}\n",
    "temp = 0\n",
    "with open('metric_data_20_new.txt') as f:\n",
    "    for line in f:\n",
    "        strt = line\n",
    "        strt2 = strt.split(':')\n",
    "        my_result = list(map(int, strt2[0].split(',')))\n",
    "        if (temp!=my_result[0]):\n",
    "            weight_map[my_result[0]]={}\n",
    "        weight_map[my_result[0]][my_result[1]] = int(strt2[1])\n",
    "        temp = my_result[0]\n",
    "vertices = [i for i in range(1,21)]\n",
    "alg_y = YenAlgorithm(weight_map,vertices,2,7,K_paths)\n",
    "paths_vertices = alg_y.compute_shortest_paths()"
   ]
  },
  {
   "cell_type": "code",
   "execution_count": 4,
   "id": "98809c31",
   "metadata": {},
   "outputs": [
    {
     "name": "stdout",
     "output_type": "stream",
     "text": [
      "[140, 140, 150, 150, 165, 165, 175, 180, 180, 185]\n"
     ]
    },
    {
     "data": {
      "text/plain": [
       "[[2, 11, 6, 14, 7],\n",
       " [2, 9, 10, 12, 13, 7],\n",
       " [2, 1, 11, 6, 14, 7],\n",
       " [2, 1, 3, 4, 8, 7],\n",
       " [2, 15, 18, 5, 7],\n",
       " [2, 15, 18, 4, 8, 7],\n",
       " [2, 1, 3, 6, 14, 7],\n",
       " [2, 16, 17, 19, 20, 7],\n",
       " [2, 15, 18, 5, 8, 7],\n",
       " [2, 11, 6, 12, 13, 7]]"
      ]
     },
     "execution_count": 4,
     "metadata": {},
     "output_type": "execute_result"
    }
   ],
   "source": [
    "paths_length = []\n",
    "for path in paths_vertices:\n",
    "    s = 0\n",
    "    for i in range(len(path)-1):\n",
    "        s+= weight_map[path[i]][path[i+1]]\n",
    "    paths_length.append(s)\n",
    "print(paths_length)\n",
    "paths_vertices"
   ]
  },
  {
   "cell_type": "code",
   "execution_count": 5,
   "id": "c069dd57",
   "metadata": {},
   "outputs": [
    {
     "data": {
      "text/plain": [
       "1630"
      ]
     },
     "execution_count": 5,
     "metadata": {},
     "output_type": "execute_result"
    }
   ],
   "source": [
    "sum(paths_length)"
   ]
  },
  {
   "cell_type": "code",
   "execution_count": 6,
   "id": "b3fb7422",
   "metadata": {},
   "outputs": [],
   "source": [
    "time_1 = []\n",
    "solan_1 = np.zeros(K_paths)\n",
    "CD_1 = []\n",
    "# for i in range(Times):\n",
    "#     print(i)\n",
    "#     alg_1 = ACS(2,7,N, Max, K_paths, p, a, b, 0.3, Q)\n",
    "#     start_1 = time.time()\n",
    "#     alg_1.Do()\n",
    "#     end_1 = time.time()\n",
    "#     time_1.append(end_1 - start_1)\n",
    "#     for j in range(len(paths_vertices)):\n",
    "#         for j2 in range(len(alg_1.best)):\n",
    "#             if(tuple(alg_1.best[j2].path)==tuple(paths_vertices[j])):\n",
    "#                 solan_1[j]+=1\n",
    "#                 break\n",
    "#     s = 0\n",
    "#     for member in alg_1.best:\n",
    "#         for i in range(len(member.path)-1):\n",
    "#             s+= alg_1.weight_map[member.path[i]][member.path[i+1]]\n",
    "#     CD_1.append(s)"
   ]
  },
  {
   "cell_type": "code",
   "execution_count": 7,
   "id": "55402c89",
   "metadata": {},
   "outputs": [],
   "source": [
    "time_2 = []\n",
    "solan_2 = np.zeros(K_paths)\n",
    "CD_2 = []\n",
    "# for i in range(Times):\n",
    "#     print(i)\n",
    "#     alg_2 = ACS(2,7,N, Max, K_paths, p, a, b, 0.6, Q)\n",
    "#     start_2 = time.time()\n",
    "#     alg_2.Do()\n",
    "#     end_2 = time.time()\n",
    "#     time_2.append(end_2 - start_2)\n",
    "#     for j in range(len(paths_vertices)):\n",
    "#         for j2 in range(len(alg_2.best)):\n",
    "#             if(tuple(alg_2.best[j2].path)==tuple(paths_vertices[j])):\n",
    "#                 solan_2[j]+=1\n",
    "#                 break\n",
    "#     s = 0\n",
    "#     for member in alg_2.best:\n",
    "#         for i in range(len(member.path)-1):\n",
    "#             s+= alg_2.weight_map[member.path[i]][member.path[i+1]]\n",
    "#     CD_2.append(s)"
   ]
  },
  {
   "cell_type": "code",
   "execution_count": 8,
   "id": "48929886",
   "metadata": {},
   "outputs": [
    {
     "name": "stdout",
     "output_type": "stream",
     "text": [
      "0\n",
      "1\n",
      "2\n",
      "3\n",
      "4\n",
      "5\n",
      "6\n",
      "7\n",
      "8\n",
      "9\n",
      "10\n",
      "11\n",
      "12\n",
      "13\n",
      "14\n",
      "15\n",
      "16\n",
      "17\n",
      "18\n",
      "19\n"
     ]
    }
   ],
   "source": [
    "time_3 = []\n",
    "solan_3 = np.zeros(K_paths)\n",
    "CD_3 = []\n",
    "for i in range(Times):\n",
    "    print(i)\n",
    "    alg_3 = ACS(2,7,N, Max, K_paths, p, a, b, p0, Q)\n",
    "    start_3 = time.time()\n",
    "    alg_3.Do()\n",
    "    end_3 = time.time()\n",
    "    time_3.append(end_3 - start_3)\n",
    "    for j in range(len(paths_vertices)):\n",
    "        for j2 in range(len(alg_3.best)):\n",
    "            if(tuple(alg_3.best[j2].path)==tuple(paths_vertices[j])):\n",
    "                solan_3[j]+=1\n",
    "                break\n",
    "    s = 0\n",
    "    for member in alg_3.best:\n",
    "        for i in range(len(member.path)-1):\n",
    "            s+= alg_3.weight_map[member.path[i]][member.path[i+1]]\n",
    "    CD_3.append(s)"
   ]
  },
  {
   "cell_type": "code",
   "execution_count": 9,
   "id": "cfc342ff",
   "metadata": {},
   "outputs": [
    {
     "name": "stdout",
     "output_type": "stream",
     "text": [
      "[16. 20. 20. 20. 15. 18. 12. 18.  6.  6.]\n"
     ]
    }
   ],
   "source": [
    "# print(solan_1)\n",
    "# print(solan_2)\n",
    "print(solan_3)"
   ]
  },
  {
   "cell_type": "code",
   "execution_count": 10,
   "id": "79fdd72e",
   "metadata": {},
   "outputs": [
    {
     "data": {
      "image/png": "[encoded data removed]",
      "text/plain": [
       "<Figure size 720x360 with 1 Axes>"
      ]
     },
     "metadata": {
      "needs_background": "light"
     },
     "output_type": "display_data"
    }
   ],
   "source": [
    "import matplotlib.pyplot as plt\n",
    "import matplotlib\n",
    "import numpy as np\n",
    "font = {'size'   : 11}\n",
    "matplotlib.rc('font', **font)\n",
    "# create data\n",
    "x = np.arange(K_paths)+1\n",
    "width = 0.25\n",
    "  \n",
    "# plot data in grouped manner of bar type\n",
    "fig = plt.figure(figsize=(10,5))\n",
    "# plt.ylim(0,50)\n",
    "plt.bar(x-0.25, solan_1, width, color='red')\n",
    "plt.bar(x, solan_2, width, color='deepskyblue', hatch='\\\\')\n",
    "plt.bar(x+0.25, solan_3, width, color='lime', hatch='//')\n",
    "plt.xlabel(\"Path No.\")\n",
    "plt.ylabel(\"Number of successful searches\")\n",
    "plt.legend([\"p0 = 0.3\", \"p0 = 0.6\", \"p0 = 0.9\"],loc=\"upper right\")\n",
    "plt.grid()\n",
    "plt.savefig(\"ACS/40.png\",dpi=200)"
   ]
  },
  {
   "cell_type": "code",
   "execution_count": 11,
   "id": "08fce0f3",
   "metadata": {},
   "outputs": [
    {
     "data": {
      "image/png": "[encoded data removed]",
      "text/plain": [
       "<Figure size 720x360 with 1 Axes>"
      ]
     },
     "metadata": {
      "needs_background": "light"
     },
     "output_type": "display_data"
    }
   ],
   "source": [
    "figg1 = plt.figure(figsize=(10,5))\n",
    "avr_1 = int(sum(CD_1)/Times)\n",
    "avr_2 = int(sum(CD_2)/Times)\n",
    "avr_3 = int(sum(CD_3)/Times)\n",
    "plt.ylim(2000,2500)\n",
    "plt.plot(CD_1, label = \"p0 = 0.3\" + \" (Average = \"+str(avr_1)+\")\", linewidth = '3', color='red')\n",
    "plt.plot(CD_2, label = \"p0 = 0.6\" + \" (Average = \"+str(avr_2)+\")\", linewidth = '3', color='deepskyblue', linestyle = 'dashed')\n",
    "plt.plot(CD_3, label = \"p0 = 0.9\" + \" (Average = \"+str(avr_3)+\")\", linewidth = '3', color='lime', linestyle = 'dotted')\n",
    "plt.legend(loc=\"upper right\")\n",
    "plt.xlabel(\"Test No.\")\n",
    "plt.ylabel(\"CD\")\n",
    "plt.grid()\n",
    "plt.savefig(\"ACS/40_CD.png\",dpi=200)"
   ]
  },
  {
   "cell_type": "code",
   "execution_count": 12,
   "id": "23a73149",
   "metadata": {},
   "outputs": [
    {
     "data": {
      "image/png": "[encoded data removed]",
      "text/plain": [
       "<Figure size 720x360 with 1 Axes>"
      ]
     },
     "metadata": {
      "needs_background": "light"
     },
     "output_type": "display_data"
    }
   ],
   "source": [
    "figg2 = plt.figure(figsize=(10,5))\n",
    "avr_1 = round(sum(time_1)/Times,2)\n",
    "avr_2 = round(sum(time_2)/Times,2)\n",
    "avr_3 = round(sum(time_3)/Times,2)\n",
    "# plt.ylim(0,60)\n",
    "plt.plot(time_1, label = \"p0 = 0.3\" + \" (Average = \"+str(avr_1)+\"s)\", linewidth = '3', color='red')\n",
    "plt.plot(time_2, label = \"p0 = 0.6\" + \" (Average = \"+str(avr_2)+\"s)\", linewidth = '3', color='deepskyblue', linestyle = 'dashed')\n",
    "plt.plot(time_3, label = \"p0 = 0.9\" + \" (Average = \"+str(avr_3)+\"s)\", linewidth = '3', color='lime', linestyle = 'dotted')\n",
    "plt.legend(loc=\"upper right\")\n",
    "plt.xlabel(\"Test No.\")\n",
    "plt.ylabel(\"Time in seconds\")\n",
    "plt.grid()\n",
    "plt.savefig(\"ACS/40_time.png\",dpi=200)"
   ]
  },
  {
   "cell_type": "code",
   "execution_count": null,
   "id": "c8075999",
   "metadata": {},
   "outputs": [],
   "source": []
  }
 ],
 "metadata": {
  "kernelspec": {
   "display_name": "Python 3 (ipykernel)",
   "language": "python",
   "name": "python3"
  },
  "language_info": {
   "codemirror_mode": {
    "name": "ipython",
    "version": 3
   },
   "file_extension": ".py",
   "mimetype": "text/x-python",
   "name": "python",
   "nbconvert_exporter": "python",
   "pygments_lexer": "ipython3",
   "version": "3.8.10"
  }
 },
 "nbformat": 4,
 "nbformat_minor": 5
}
